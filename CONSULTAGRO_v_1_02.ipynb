{
  "cells": [
    {
      "cell_type": "markdown",
      "metadata": {
        "id": "view-in-github",
        "colab_type": "text"
      },
      "source": [
        "<a href=\"https://colab.research.google.com/github/marianobonelli/GeoLab_Consultagro/blob/main/CONSULTAGRO_v_1_02.ipynb\" target=\"_parent\"><img src=\"https://colab.research.google.com/assets/colab-badge.svg\" alt=\"Open In Colab\"/></a>"
      ]
    },
    {
      "cell_type": "markdown",
      "metadata": {
        "id": "dd68MnmpmuB-"
      },
      "source": [
        "[![logo.png](data:image/png;base64,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)](http://www.consultagroest.com.ar/)\n",
        "\n",
        "\n",
        "**Desarrollado por** [**Mariano Bonelli**](https://www.linkedin.com/in/mariano-francisco-bonelli/)\n",
        "\n",
        "\n",
        "\n",
        "---\n",
        "\n"
      ]
    },
    {
      "cell_type": "code",
      "execution_count": null,
      "metadata": {
        "cellView": "form",
        "colab": {
          "background_save": true
        },
        "id": "1-6cGvrtmhqL"
      },
      "outputs": [],
      "source": [
        "#@title 1. Instalación e importación de librerías { vertical-output: true }\n",
        "%%capture\n",
        "!rm -r /content/sample_data # elimina la carpeta export del directorio /sample_data/\n",
        "!pip install geopandas\n",
        "!pip install leafmap\n",
        "!pip install ipysheet\n",
        "!pip install folium matplotlib mapclassify\n",
        "import ipysheet\n",
        "import geopandas as gpd\n",
        "import pandas as pd\n",
        "import chardet\n",
        "import glob\n",
        "import ipywidgets as widgets\n",
        "from ipywidgets import Dropdown\n",
        "from google.colab import files\n",
        "from shapely.geometry import Point\n",
        "import fileinput\n",
        "import zipfile\n",
        "import shutil\n",
        "import os\n",
        "import fiona\n",
        "from fiona.crs import from_epsg\n",
        "import re\n",
        "import folium"
      ]
    },
    {
      "cell_type": "markdown",
      "metadata": {
        "id": "HkLnfA60w5Ye"
      },
      "source": [
        "\n",
        "\n",
        "---\n",
        "\n"
      ]
    },
    {
      "cell_type": "code",
      "execution_count": null,
      "metadata": {
        "cellView": "form",
        "id": "s5djU1xVmjnQ"
      },
      "outputs": [],
      "source": [
        "#@title 2. Importación de archivos { vertical-output: true }\n",
        "\n",
        "uploaded = files.upload()"
      ]
    },
    {
      "cell_type": "markdown",
      "metadata": {
        "id": "zELyhgVDw6Qf"
      },
      "source": [
        "\n",
        "\n",
        "---\n",
        "\n"
      ]
    },
    {
      "cell_type": "code",
      "execution_count": null,
      "metadata": {
        "cellView": "form",
        "id": "Kfe52-flmlhp"
      },
      "outputs": [],
      "source": [
        "#@title 3. Lectura del archivo con resultados de laboratorio: { vertical-output: true }\n",
        "\n",
        "# Buscar todos los archivos .xlsx en el directorio /content/\n",
        "file_path = glob.glob('/content/*.xlsx')\n",
        "\n",
        "# Comprobar si se encontró el archivo .xlsx\n",
        "if len(file_path) == 0:\n",
        "    print('No se encontró ningún archivo .xlsx en el directorio /content/')\n",
        "elif len(file_path) > 1:\n",
        "    print('Se encontraron varios archivos .xlsx en el directorio /content/. Se usará el primero encontrado.')\n",
        "    print(file_path[0])\n",
        "\n",
        "# Obtener la ruta al archivo .xlsx\n",
        "file_path = file_path[0]\n",
        "\n",
        "df = pd.read_excel(file_path, skiprows=3)\n",
        "print(\"Resultados de laboratorio\")\n",
        "\n",
        "xls_name = file_path.replace(\"/content/\", \"\").replace(\".xlsx\", \"\")\n",
        "\n",
        "\n",
        "df"
      ]
    },
    {
      "cell_type": "markdown",
      "metadata": {
        "id": "l6EHztNuw6-n"
      },
      "source": [
        "\n",
        "\n",
        "---\n",
        "\n"
      ]
    },
    {
      "cell_type": "code",
      "execution_count": null,
      "metadata": {
        "cellView": "form",
        "id": "253iQ_fMsX_e"
      },
      "outputs": [],
      "source": [
        "#@title 4. Detección de coordenadas por lote / ambiente: { vertical-output: true }\n",
        "\n",
        "\n",
        "# Suponiendo que el DataFrame df ya está creado\n",
        "# Limpiamos las columnas \"Profundidad\" \n",
        "df['Lote'] = df['Lote'].str.strip()\n",
        "\n",
        "# 1. Detectar cuántos valores únicos hay en la columna \"Lote\" del dataframe df\n",
        "valores_unicos = df['Lote'].unique()\n",
        "\n",
        "# 2. Generar un desplegable para cada valor único y listar archivos CSV en /content/\n",
        "csv_files = [f for f in os.listdir('/content/') if f.endswith('.csv')]\n",
        "\n",
        "# Crear un diccionario para almacenar los desplegables y los valores seleccionados\n",
        "dropdowns = {}\n",
        "\n",
        "for valor in valores_unicos:\n",
        "    dropdown = Dropdown(options=csv_files, description=f'Lote {valor}:')\n",
        "    dropdowns[valor] = dropdown\n",
        "\n",
        "# Mostrar los desplegables\n",
        "for dropdown in dropdowns.values():\n",
        "    display(dropdown)"
      ]
    },
    {
      "cell_type": "markdown",
      "metadata": {
        "id": "I-6IkKs5w8Bh"
      },
      "source": [
        "\n",
        "\n",
        "---\n",
        "\n"
      ]
    },
    {
      "cell_type": "code",
      "execution_count": null,
      "metadata": {
        "cellView": "form",
        "id": "qHC0sOtHmwdO"
      },
      "outputs": [],
      "source": [
        "#@title 5. Visualizacion de coordenadas por lote / ambiente: { vertical-output: true }\n",
        "\n",
        "# 3. Crear una función para obtener los valores seleccionados en cada desplegable\n",
        "def get_selected_values():\n",
        "    selected_values = {}\n",
        "    for valor, dropdown in dropdowns.items():\n",
        "        selected_values[valor] = dropdown.value\n",
        "    return selected_values\n",
        "\n",
        "# Para obtener los valores seleccionados, simplemente llama a la función:\n",
        "# selected_values = get_selected_values()\n",
        "# print(selected_values)\n",
        "\n",
        "selected_values = get_selected_values()\n",
        "\n",
        "# Tienes un diccionario llamado 'selected_values'\n",
        "# cuyos valores son rutas a archivos CSV\n",
        "# Por ejemplo: selected_values = {'archivo1': 'ruta/Archivo1.csv', 'archivo2': 'ruta/Archivo2.csv'}\n",
        "\n",
        "def modify_csv_file(file_path):\n",
        "    with open(file_path, 'r') as file:\n",
        "        lines = file.readlines()\n",
        "        \n",
        "    # Agregar ; en la primera fila\n",
        "    lines[0] = lines[0].rstrip() + ';\\n'\n",
        "\n",
        "   \n",
        "    # Guardar el archivo CSV modificado\n",
        "    with open(file_path, 'w') as file:\n",
        "        file.writelines(lines)\n",
        "\n",
        "def csv_to_geodataframe(file_path, name):\n",
        "    # Leer el archivo CSV modificado\n",
        "    df = pd.read_csv(file_path, delimiter=';', skipinitialspace=True)\n",
        "    \n",
        "    # Agregar una columna con el nombre del GeoDataFrame\n",
        "    df['Lote'] = name\n",
        "    \n",
        "    # Convertir en un GeoDataFrame utilizando las columnas \"Latitud\" y \"Longitud\"\n",
        "    geometry = [Point(xy) for xy in zip(df['Latitud'], df['Longitud'])]\n",
        "    gdf = gpd.GeoDataFrame(df, geometry=geometry)\n",
        "    \n",
        "    # Asignar la proyección EPSG:4326 al GeoDataFrame\n",
        "    gdf.crs = \"EPSG:4326\"\n",
        "    \n",
        "    return gdf\n",
        "\n",
        "\n",
        "# Modificar y convertir cada archivo CSV en el diccionario\n",
        "geodataframes = {}\n",
        "\n",
        "for key, file_path in selected_values.items():\n",
        "    modify_csv_file(file_path)\n",
        "    geodataframes[key] = csv_to_geodataframe(file_path, key)\n",
        "\n",
        "\n",
        "\n",
        "# Ahora, el diccionario 'geodataframes' contiene GeoDataFrames en lugar de rutas a archivos CSV\n",
        "\n",
        "# Obtiene la primera clave del diccionario 'geodataframes'\n",
        "primer_key = next(iter(geodataframes))\n",
        "\n",
        "# Crea un mapa interactivo usando el primer GeoDataFrame del diccionario\n",
        "# y configurando las capas base y los atributos correspondientes\n",
        "# Lista de colores para asignar a cada GeoDataFrame\n",
        "colors = ['red', 'blue', 'green', 'purple', 'orange', 'cyan', 'magenta', 'yellow', 'black']\n",
        "\n",
        "m = geodataframes[primer_key].explore(\n",
        "    tiles='https://server.arcgisonline.com/ArcGIS/rest/services/World_Imagery/MapServer/tile/{z}/{y}/{x}',\n",
        "    attr='Tiles &copy; Esri &mdash; Source: Esri, i-cubed, USDA, USGS, AEX, GeoEye, Getmapping, Aerogrid, IGN, IGP, UPR-EGP, and the GIS User Community',\n",
        "    tooltip=['Lote', 'NRO', 'Modelo', 'Fecha', 'Latitud', 'Longitud'],\n",
        "    marker_kwds=dict(color=colors[0], radius=4),\n",
        "    name=primer_key, # name of the layer in the map,\n",
        ")\n",
        "\n",
        "color_index = 1\n",
        "\n",
        "# Itera sobre todas las claves en el diccionario 'geodataframes'\n",
        "for key in geodataframes.keys():\n",
        "    # Asegura que la clave actual no sea la misma que 'primer_key'\n",
        "    if key != primer_key:\n",
        "        # Añade el GeoDataFrame actual al mapa interactivo\n",
        "        geodataframes[key].explore(\n",
        "            m=m,\n",
        "            tooltip=['Lote','NRO', 'Modelo', 'Fecha', 'Latitud', 'Longitud'],\n",
        "            marker_kwds=dict(color=colors[color_index], radius=4),\n",
        "            name=key,\n",
        "        )\n",
        "        color_index += 1\n",
        "        # Reinicia el índice de colores si alcanza el final de la lista de colores\n",
        "        if color_index >= len(colors):\n",
        "            color_index = 0\n",
        "\n",
        "folium.TileLayer('OpenStreetMap', control=True).add_to(m)  # use folium to add alternative tiles\n",
        "folium.LayerControl().add_to(m)  # use folium to add layer control\n",
        "\n",
        "# Muestra el mapa interactivo\n",
        "m"
      ]
    },
    {
      "cell_type": "markdown",
      "metadata": {
        "id": "g68wRKMkw869"
      },
      "source": [
        "\n",
        "\n",
        "---\n",
        "\n"
      ]
    },
    {
      "cell_type": "code",
      "execution_count": null,
      "metadata": {
        "cellView": "form",
        "id": "k91tXgwFqjhN"
      },
      "outputs": [],
      "source": [
        "#@title 6. Generación de archivos KML y Shape de ESRI (SHP): { vertical-output: true }\n",
        "\n",
        "# Asumiendo que ya tienes el dataframe df y el diccionario geodataframes\n",
        "# con las claves correspondientes a los valores únicos en la columna 'Lote'\n",
        "\n",
        "# Función para obtener el punto medio usando el índice medio (middle_row_index)\n",
        "def get_middle_geometry(geodf):\n",
        "    middle_row_index = len(geodf) // 2\n",
        "    return geodf.iloc[middle_row_index][\"geometry\"]\n",
        "\n",
        "# Función para agregar el valor del punto medio al dataframe df\n",
        "def add_middle_geometry_value(row, geodataframes):\n",
        "    lote = row[\"Lote\"]\n",
        "    geodf = geodataframes.get(lote)\n",
        "    if geodf is not None:\n",
        "        row[\"geometry\"] = get_middle_geometry(geodf)\n",
        "    return row\n",
        "\n",
        "# Aplicar la función add_middle_geometry_value a cada fila del dataframe df\n",
        "df = df.apply(add_middle_geometry_value, geodataframes=geodataframes, axis=1)\n",
        "\n",
        "# Transformar el DataFrame en un GeoDataFrame\n",
        "gdf = gpd.GeoDataFrame(df, geometry='geometry')\n",
        "\n",
        "# Asignar la proyección EPSG 4326 al GeoDataFrame\n",
        "gdf.crs = 'EPSG:4326'\n",
        "\n",
        "# Crear una carpeta para guardar los archivos shapefile\n",
        "output_folder = \"export\"\n",
        "if not os.path.exists(output_folder):\n",
        "    os.makedirs(output_folder)\n",
        "\n",
        "# Corregimos el campo fecha\n",
        "from pandas.api.types import is_datetime64_any_dtype as is_datetime\n",
        "if is_datetime(gdf[\"Fecha\"]):\n",
        "    gdf[\"Fecha\"] = gdf[\"Fecha\"].dt.strftime(\"%Y-%m-%d\")\n",
        "\n",
        "# Eliminar espacios y puntos en los nombres de los campos\n",
        "columns = [col.replace(' ', '').replace('.', '') for col in gdf.columns]\n",
        "# Truncar los nombres de los campos a 10 caracteres\n",
        "columns = [col[:10] for col in columns]\n",
        "# Asignar los nuevos nombres de los campos al dataframe\n",
        "gdf = gdf.rename(columns=dict(zip(gdf.columns, columns)))\n",
        "\n",
        "# Agrupar el GeoDataFrame por las columnas \"Lote\" y \"Profundidad\"\n",
        "grouped_gdf = gdf.groupby([\"Profundida\"])\n",
        "\n",
        "\n",
        "fiona.drvsupport.supported_drivers['KML'] = 'rw'  # Habilitar el soporte de lectura y escritura para el formato KML\n",
        "\n",
        "def create_valid_layer_name(profundidad):\n",
        "    # Eliminar caracteres no válidos y reemplazar espacios por guiones bajos\n",
        "    #valid_lote = re.sub(r\"[^a-zA-Z0-9_]+\", \"\", lote).replace(\" \", \"_\")\n",
        "    valid_profundidad = re.sub(r\"[^a-zA-Z0-9_]+\", \"\", profundidad).replace(\" \", \"_\")\n",
        "    return f\"{valid_profundidad}\"\n",
        "\n",
        "colors = ['red', 'blue', 'green', 'purple', 'orange', 'cyan', 'magenta', 'yellow', 'black']\n",
        "color_index = 0\n",
        "\n",
        "# Crear un mapa interactivo\n",
        "map = folium.Map(\n",
        "    tiles='https://server.arcgisonline.com/ArcGIS/rest/services/World_Imagery/MapServer/tile/{z}/{y}/{x}',\n",
        "    attr='Tiles &copy; Esri &mdash; Source: Esri, i-cubed, USDA, USGS, AEX, GeoEye, Getmapping, Aerogrid, IGN, IGP, UPR-EGP, and the GIS User Community',\n",
        ")\n",
        "\n",
        "# Calcular los límites del área que abarcan los datos\n",
        "bounds = gdf.geometry.total_bounds\n",
        "sw = [bounds[1], bounds[0]]\n",
        "ne = [bounds[3], bounds[2]]\n",
        "\n",
        "# Ajustar el zoom del mapa a los límites calculados\n",
        "map.fit_bounds([sw, ne])\n",
        "\n",
        "for (profundidad), group in grouped_gdf:\n",
        "    group.explore(\n",
        "      m=map,\n",
        "      marker_kwds=dict(color=colors[color_index], radius=4),\n",
        "      name=profundidad\n",
        "      )\n",
        "    color_index += 1\n",
        "    # Reinicia el índice de colores si alcanza el final de la lista de colores\n",
        "    if color_index >= len(colors):\n",
        "        color_index = 0\n",
        "    # Crear un nombre de archivo único para cada combinación de lote y profundidad\n",
        "    file_name_shp = f\"{xls_name}_{profundidad}.shp\"\n",
        "    file_name_kml = f\"{xls_name}_{profundidad}.kml\"\n",
        "    file_path_shp = os.path.join(output_folder, file_name_shp)\n",
        "    file_path_kml = os.path.join(output_folder, file_name_kml)\n",
        "\n",
        "    # Guardar el grupo en un archivo shapefile\n",
        "    group.to_file(file_path_shp)\n",
        "\n",
        "    # Guardar el grupo en un archivo KML\n",
        "    valid_layer_name = create_valid_layer_name(profundidad)\n",
        "    group.to_file(file_path_kml, driver='KML', layer=valid_layer_name)\n",
        "\n",
        "# Comprimir la carpeta \"/content/export/\"\n",
        "export_folder = \"/content/export\"\n",
        "zip_file_path = \"/content/export.zip\"\n",
        "shutil.make_archive(zip_file_path.rstrip('.zip'), 'zip', export_folder)\n",
        "\n",
        "# Descargar el archivo comprimido\n",
        "from google.colab import files\n",
        "files.download(zip_file_path)\n",
        "\n",
        "# Agregar las teselas de OpenStreetMap como una capa de teselas alternativa\n",
        "folium.TileLayer('OpenStreetMap', control=True).add_to(map)\n",
        "\n",
        "# Agregar control de capas para cambiar entre capas de teselas\n",
        "folium.LayerControl().add_to(map)\n",
        "\n",
        "# Mostrar el mapa interactivo\n",
        "map"
      ]
    },
    {
      "cell_type": "markdown",
      "metadata": {
        "id": "q6dhcEfEw-Mg"
      },
      "source": [
        "\n",
        "\n",
        "---\n",
        "\n"
      ]
    },
    {
      "cell_type": "code",
      "execution_count": null,
      "metadata": {
        "cellView": "form",
        "id": "z6kWHQxxvVCH"
      },
      "outputs": [],
      "source": [
        "#@title 7. Eliminación de los archivos utilizados para volver a empezar:\n",
        "!find /content/ -name \"*.zip\" -exec rm -r {} \\; # elimina todos los archivos .zip del directorio /content/\n",
        "!find /content/ -name \"*.csv\" -exec rm -r {} \\; # elimina todos los archivos .txt del directorio /content/\n",
        "!find /content/ -name \"*.xlsx\" -exec rm -r {} \\; # elimina todos los archivos .zip del directorio /content/\n",
        "!rm -r /content/export # elimina la carpeta export del directorio /content/"
      ]
    },
    {
      "cell_type": "markdown",
      "metadata": {
        "id": "3O7YZhYbvmOT"
      },
      "source": [
        "Luego de este punto se puede volver a correr el programa sin necesidad de ejecutar el punto 1 nuevamente ya que elimina todos los archivos cargados y generados"
      ]
    },
    {
      "cell_type": "markdown",
      "metadata": {
        "id": "3EMOSY-FvWp4"
      },
      "source": [
        "\n",
        "\n",
        "---\n",
        "\n"
      ]
    }
  ],
  "metadata": {
    "colab": {
      "provenance": [],
      "authorship_tag": "ABX9TyMSYKnEFHs3rn9bq1gWpWJZ",
      "include_colab_link": true
    },
    "kernelspec": {
      "display_name": "Python 3",
      "name": "python3"
    },
    "language_info": {
      "name": "python"
    }
  },
  "nbformat": 4,
  "nbformat_minor": 0
}